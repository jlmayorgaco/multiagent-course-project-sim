{
 "cells": [
  {
   "cell_type": "code",
   "execution_count": 1,
   "id": "48a18a18",
   "metadata": {
    "vscode": {
     "languageId": "plaintext"
    }
   },
   "outputs": [
    {
     "name": "stdout",
     "output_type": "stream",
     "text": [
      "Requirement already satisfied: mesa in /opt/anaconda3/lib/python3.12/site-packages (3.2.0)\n",
      "Requirement already satisfied: numpy in /opt/anaconda3/lib/python3.12/site-packages (from mesa) (1.26.4)\n",
      "Requirement already satisfied: pandas in /opt/anaconda3/lib/python3.12/site-packages (from mesa) (2.2.2)\n",
      "Requirement already satisfied: scipy in /opt/anaconda3/lib/python3.12/site-packages (from mesa) (1.13.1)\n",
      "Requirement already satisfied: tqdm in /opt/anaconda3/lib/python3.12/site-packages (from mesa) (4.66.4)\n",
      "Requirement already satisfied: python-dateutil>=2.8.2 in /opt/anaconda3/lib/python3.12/site-packages (from pandas->mesa) (2.9.0.post0)\n",
      "Requirement already satisfied: pytz>=2020.1 in /opt/anaconda3/lib/python3.12/site-packages (from pandas->mesa) (2024.1)\n",
      "Requirement already satisfied: tzdata>=2022.7 in /opt/anaconda3/lib/python3.12/site-packages (from pandas->mesa) (2023.3)\n",
      "Requirement already satisfied: six>=1.5 in /opt/anaconda3/lib/python3.12/site-packages (from python-dateutil>=2.8.2->pandas->mesa) (1.16.0)\n"
     ]
    }
   ],
   "source": [
    "!pip install mesa"
   ]
  },
  {
   "cell_type": "code",
   "execution_count": 2,
   "id": "35d427d5-cd7f-467b-9702-0890542f714d",
   "metadata": {},
   "outputs": [
    {
     "name": "stdout",
     "output_type": "stream",
     "text": [
      "Name: Mesa\n",
      "Version: 3.2.0\n",
      "Summary: Agent-based modeling (ABM) in Python\n",
      "Home-page: \n",
      "Author: \n",
      "Author-email: Project Mesa Team <maintainers@projectmesa.dev>\n",
      "License: Apache 2.0\n",
      "Location: /opt/anaconda3/lib/python3.12/site-packages\n",
      "Requires: numpy, pandas, scipy, tqdm\n",
      "Required-by: \n",
      "Note: you may need to restart the kernel to use updated packages.\n"
     ]
    }
   ],
   "source": [
    "pip show mesa"
   ]
  },
  {
   "cell_type": "code",
   "execution_count": 3,
   "id": "2ec39af5",
   "metadata": {
    "vscode": {
     "languageId": "plaintext"
    }
   },
   "outputs": [],
   "source": [
    "from mesa import Agent, Model\n",
    "import random"
   ]
  },
  {
   "cell_type": "code",
   "execution_count": 4,
   "id": "e7ae129d-f58f-429e-9625-c32f0db96f2a",
   "metadata": {},
   "outputs": [],
   "source": [
    "import sys\n",
    "import os\n",
    "\n",
    "project_root = os.path.abspath(os.path.join(os.getcwd(), \"..\"))\n",
    "if project_root not in sys.path:\n",
    "    sys.path.insert(0, project_root)\n",
    "\n",
    "# ----------------------------------------------------- #\n",
    "# --- Agents ------------------------------------------ #\n",
    "# ----------------------------------------------------- #\n",
    "from agents.PalmAgent import PalmAgent\n",
    "from agents.QuadcopterAgent import QuadcopterAgent\n",
    "from agents.PersonAgent import PersonAgent\n",
    "# ----------------------------------------------------- #\n",
    "\n",
    "\n",
    "# ----------------------------------------------------- #\n",
    "# --- Models ------------------------------------------ #\n",
    "# ----------------------------------------------------- #\n",
    "from models.ForestModel import ForestModel\n",
    "# ----------------------------------------------------- #\n",
    "\n"
   ]
  },
  {
   "cell_type": "code",
   "execution_count": 5,
   "id": "e74c245b-da75-43f5-84c5-d451fe89e341",
   "metadata": {},
   "outputs": [
    {
     "name": "stderr",
     "output_type": "stream",
     "text": [
      "/Users/jorge.mayorga/Documents/GitHub/multiagent-course-project-sim/models/ForestModel.py:37: UserWarning: Agent 1 is being placed with\n",
      "place_agent() despite already having the position (3, 6). In most\n",
      "cases, you'd want to clear the current position with remove_agent()\n",
      "before placing the agent again.\n",
      "  self.grid.place_agent(agent, pos)\n",
      "/Users/jorge.mayorga/Documents/GitHub/multiagent-course-project-sim/models/ForestModel.py:37: UserWarning: Agent 2 is being placed with\n",
      "place_agent() despite already having the position (0, 9). In most\n",
      "cases, you'd want to clear the current position with remove_agent()\n",
      "before placing the agent again.\n",
      "  self.grid.place_agent(agent, pos)\n",
      "/Users/jorge.mayorga/Documents/GitHub/multiagent-course-project-sim/models/ForestModel.py:37: UserWarning: Agent 3 is being placed with\n",
      "place_agent() despite already having the position (3, 2). In most\n",
      "cases, you'd want to clear the current position with remove_agent()\n",
      "before placing the agent again.\n",
      "  self.grid.place_agent(agent, pos)\n",
      "/Users/jorge.mayorga/Documents/GitHub/multiagent-course-project-sim/models/ForestModel.py:37: UserWarning: Agent 4 is being placed with\n",
      "place_agent() despite already having the position (2, 9). In most\n",
      "cases, you'd want to clear the current position with remove_agent()\n",
      "before placing the agent again.\n",
      "  self.grid.place_agent(agent, pos)\n",
      "/Users/jorge.mayorga/Documents/GitHub/multiagent-course-project-sim/models/ForestModel.py:37: UserWarning: Agent 5 is being placed with\n",
      "place_agent() despite already having the position (7, 8). In most\n",
      "cases, you'd want to clear the current position with remove_agent()\n",
      "before placing the agent again.\n",
      "  self.grid.place_agent(agent, pos)\n",
      "/Users/jorge.mayorga/Documents/GitHub/multiagent-course-project-sim/models/ForestModel.py:37: UserWarning: Agent 6 is being placed with\n",
      "place_agent() despite already having the position (0, 7). In most\n",
      "cases, you'd want to clear the current position with remove_agent()\n",
      "before placing the agent again.\n",
      "  self.grid.place_agent(agent, pos)\n",
      "/Users/jorge.mayorga/Documents/GitHub/multiagent-course-project-sim/models/ForestModel.py:37: UserWarning: Agent 7 is being placed with\n",
      "place_agent() despite already having the position (9, 1). In most\n",
      "cases, you'd want to clear the current position with remove_agent()\n",
      "before placing the agent again.\n",
      "  self.grid.place_agent(agent, pos)\n",
      "/Users/jorge.mayorga/Documents/GitHub/multiagent-course-project-sim/models/ForestModel.py:37: UserWarning: Agent 8 is being placed with\n",
      "place_agent() despite already having the position (6, 0). In most\n",
      "cases, you'd want to clear the current position with remove_agent()\n",
      "before placing the agent again.\n",
      "  self.grid.place_agent(agent, pos)\n",
      "/Users/jorge.mayorga/Documents/GitHub/multiagent-course-project-sim/models/ForestModel.py:37: UserWarning: Agent 9 is being placed with\n",
      "place_agent() despite already having the position (6, 7). In most\n",
      "cases, you'd want to clear the current position with remove_agent()\n",
      "before placing the agent again.\n",
      "  self.grid.place_agent(agent, pos)\n"
     ]
    }
   ],
   "source": [
    "model_width = 10\n",
    "model_height = 10\n",
    "model_num_palms = 5\n",
    "model_num_drones = 3\n",
    "model_num_people = 1\n",
    "\n",
    "model_forest = ForestModel(model_width, model_height, model_num_palms, model_num_drones, model_num_people)\n",
    "model_forest.step()"
   ]
  },
  {
   "cell_type": "code",
   "execution_count": null,
   "id": "9f6bc12e-0e7a-451b-8ba5-496a2b622301",
   "metadata": {},
   "outputs": [],
   "source": []
  },
  {
   "cell_type": "code",
   "execution_count": null,
   "id": "870ff5c5-3304-4e46-b79e-8f83fd1ca02c",
   "metadata": {},
   "outputs": [],
   "source": []
  }
 ],
 "metadata": {
  "kernelspec": {
   "display_name": "Python 3 (ipykernel)",
   "language": "python",
   "name": "python3"
  },
  "language_info": {
   "codemirror_mode": {
    "name": "ipython",
    "version": 3
   },
   "file_extension": ".py",
   "mimetype": "text/x-python",
   "name": "python",
   "nbconvert_exporter": "python",
   "pygments_lexer": "ipython3",
   "version": "3.12.4"
  }
 },
 "nbformat": 4,
 "nbformat_minor": 5
}
